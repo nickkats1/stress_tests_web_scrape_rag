{
 "cells": [
  {
   "cell_type": "code",
   "execution_count": 16,
   "id": "0f59c06d",
   "metadata": {},
   "outputs": [],
   "source": [
    "from langchain_openai import ChatOpenAI\n",
    "from langchain.schema import HumanMessage\n",
    "from langchain.text_splitter import RecursiveCharacterTextSplitter\n",
    "from langchain.embeddings import OpenAIEmbeddings\n",
    "from langchain.chains.question_answering import load_qa_chain\n",
    "from langchain.vectorstores import Chroma\n",
    "from langchain.prompts import PromptTemplate\n",
    "from langchain.retrievers.multi_query import MultiQueryRetriever\n",
    "import os\n",
    "from dotenv import load_dotenv\n",
    "from sec_api import PdfGeneratorApi\n",
    "from langchain.chains.summarize import load_summarize_chain\n",
    "from langchain_community.document_loaders import PyPDFLoader,WebBaseLoader\n",
    "import json\n",
    "load_dotenv()\n",
    "OPENAI_API_KEY = os.getenv(\"OPENAI_API_KEY\")\n",
    "\n",
    "\n",
    "\n",
    "URL_PATHS =[\"https://apnews.com/article/bank-stress-tests-federal-reserve-private-credit-jpmorgan-citigroup-bd4c6049c0f060a6e43ec3aa229c22af\",\"https://fortune.com/2025/06/28/bank-stress-test-results-federal-reserve-dividends-stock-buybacks/\"]\n",
    "\n",
    "\n",
    "\n",
    "\n",
    "\n",
    "\n",
    "\n",
    "\n"
   ]
  },
  {
   "cell_type": "code",
   "execution_count": 17,
   "id": "cad88c2b",
   "metadata": {},
   "outputs": [
    {
     "name": "stdout",
     "output_type": "stream",
     "text": [
      "Length of documents: 2\n"
     ]
    }
   ],
   "source": [
    "loader = WebBaseLoader(URL_PATHS)\n",
    "documents = loader.load()\n",
    "\n",
    "print(f'Length of documents: {len(documents)}')"
   ]
  },
  {
   "cell_type": "code",
   "execution_count": 18,
   "id": "c119dde8",
   "metadata": {},
   "outputs": [
    {
     "name": "stdout",
     "output_type": "stream",
     "text": [
      "Length of documents: 2 length of splits: 43\n"
     ]
    }
   ],
   "source": [
    "text_splitter = RecursiveCharacterTextSplitter(chunk_size=1500,chunk_overlap=0)\n",
    "splits = text_splitter.split_documents(documents)\n",
    "\n",
    "\n",
    "print(f'Length of documents: {len(documents)} length of splits: {len(splits)}')"
   ]
  },
  {
   "cell_type": "code",
   "execution_count": 19,
   "id": "29dcb7b8",
   "metadata": {},
   "outputs": [],
   "source": [
    "embeddings = OpenAIEmbeddings()\n",
    "vectordb = Chroma.from_documents(documents=splits,embedding=embeddings)\n",
    "\n",
    "llm = ChatOpenAI(temperature=0,model=\"gpt-3.5-turbo\")\n",
    "\n",
    "\n",
    "\n",
    "\n",
    "\n",
    "\n",
    "\n"
   ]
  },
  {
   "cell_type": "code",
   "execution_count": 20,
   "id": "62d4844c",
   "metadata": {},
   "outputs": [
    {
     "data": {
      "text/plain": [
       "\"Major banks have passed the Federal Reserve's stress tests, allowing them to issue dividends and buy back shares. The tests were less rigorous this year due to a weaker global economy, resulting in less severe hypothetical scenarios. The banks were found to be well-capitalized and resilient to potential economic downturns. The tests did not heavily assess exposure to private equity or private credit assets, which are growing concerns in the financial system. Overall, the banks are in a strong position to withstand financial stress.\""
      ]
     },
     "execution_count": 20,
     "metadata": {},
     "output_type": "execute_result"
    }
   ],
   "source": [
    "#summarize\n",
    "\n",
    "chain = load_summarize_chain(llm=llm,chain_type=\"stuff\")\n",
    "\n",
    "chain.run(documents)\n",
    "\n",
    "\n",
    "\n"
   ]
  },
  {
   "cell_type": "code",
   "execution_count": 21,
   "id": "a06b246d",
   "metadata": {},
   "outputs": [
    {
     "name": "stdout",
     "output_type": "stream",
     "text": [
      "Length of unique documents: [Document(metadata={'title': 'Easier bank stress tests clear the way for dividends and buybacks | Fortune', 'source': 'https://fortune.com/2025/06/28/bank-stress-test-results-federal-reserve-dividends-stock-buybacks/', 'description': 'All 22 banks tested would have remained solvent, the Fed said, despite absorbing roughly $550 billion in theoretical losses.', 'language': 'en'}, page_content='All of these less harmful, but simulated, drops mean there would be less damage to these banks’ balance sheets and less risk of these banks of potentially failing. Since the banks passed the 2024 tests, it was expected that the banks would pass the 2025 tests.\\n\\n\\n\\n“Large banks remain well capitalized and resilient to a range of severe outcomes,” said Michelle Bowman, the bank’s vice chair for supervision, in a statement. An appointee of President Trump, Bowman became the Fed’s vice chair of supervision earlier this month.\\n\\n\\n\\nThe Fed said it went with a less vigorous test because the global economy has weakened since last year, and therefore the test tends to weaken. Further, the bank said previous tests had shown “unintended volatility” in the results and it plans to seek public and industry comment to adjust stress tests in future years. The Fed also chose to not test the banks as heavily on their exposure to private equity assets, arguing that private equity assets are typically held for the long term and are not typically sold at times of distress.\\nThe Fed also didn’t test for any bank exposure to private credit, a $2 trillion asset class that even\\xa0Fed researchers themselves have observed to be growing alarmingly quickly. The Federal Reserve Bank of Boston recently pointed out that\\xa0private credit could be a systemic risk to the financial system\\xa0under a severe adverse scenario, which is exactly what the stress tests are supposed to test for.'), Document(metadata={'title': 'Major banks pass a less vigorous stress test from the Fed | AP News', 'language': 'en', 'source': 'https://apnews.com/article/bank-stress-tests-federal-reserve-private-credit-jpmorgan-citigroup-bd4c6049c0f060a6e43ec3aa229c22af', 'description': 'The Federal Reserve said all major banks passed this year’s stress tests, showing they can withstand a hypothetical severe economic downturn.'}, page_content='NEW YORK (AP) — All the major banks passed the Federal Reserve’s annual “stress tests” of the financial system, the central bank said Friday, but the test conducted by the central bank was notably less vigorous than it had been in previous years. All 22 banks tested this year would have remained solvent and above the minimum thresholds to continue to operate, the Fed said, despite absorbing roughly $550 billion in theoretical losses. In the Fed’s scenario, there would be less of a rise in unemployment, less of a severe economic contraction, less of a drop in commercial real estate prices, less of a drop in housing prices, among other metrics compared to what they tested in 2024. All of these less harmful, but simulated, drops mean there would be less damage to these banks’ balance sheets and less risk of these banks of potentially failing. Since the banks passed the 2024 tests, it was expected that the banks would pass the 2025 tests. \\n\\n\\n\\n\\n“Large banks remain well capitalized and resilient to a range of severe outcomes,” said Michelle Bowman, the bank’s vice chair for supervision, in a statement. An appointee of President Trump, Bowman became the Fed’s vice chair of supervision earlier this month. \\n\\n\\n\\n\\n\\n\\n\\n                        \\n                            Related Stories\\n                        \\n                    \\n\\n\\n\\n\\n\\n\\n\\n\\n\\n\\n\\n\\n\\n\\n\\n\\n\\n\\n\\nHow the Fed losing its independence could affect Americans’ everyday lives'), Document(metadata={'description': 'The Federal Reserve said all major banks passed this year’s stress tests, showing they can withstand a hypothetical severe economic downturn.', 'language': 'en', 'title': 'Major banks pass a less vigorous stress test from the Fed | AP News', 'source': 'https://apnews.com/article/bank-stress-tests-federal-reserve-private-credit-jpmorgan-citigroup-bd4c6049c0f060a6e43ec3aa229c22af'}, page_content='Key US inflation gauge holds mostly steady though core inflation ticks higher\\n\\n\\n\\n\\n\\n\\n\\n\\n\\n\\n\\n\\n\\n\\n\\n\\n\\n\\n\\n\\n\\nFed governor Cook seeks court order blocking her firing by Trump\\n\\n\\n\\n\\n\\n\\n\\n\\n\\nThe Fed said it went with a less vigorous test because the global economy has weakened since last year, and therefore the test tends to weaken. Further, the bank said previous tests had shown “unintended volatility” in the results and it plans to seek public and industry comment to adjust stress tests in future years. The Fed also chose to not test the banks as heavily on their exposure to private equity assets, arguing that private equity assets are typically held for the long term and are not typically sold at times of distress. \\n\\n\\n\\n\\n\\n\\n\\n\\n\\n\\n\\n\\nThe Fed also didn’t test for any bank exposure to private credit, a $2 trillion asset class that even Fed researchers themselves have observed to be growing alarmingly quickly. The Federal Reserve Bank of Boston recently pointed out that private credit could be a systemic risk to the financial system under a severe adverse scenario, which is exactly what the stress tests are supposed to test for.')]\n"
     ]
    }
   ],
   "source": [
    "question = \"how were the stress tests less severe compared to previous years?\"\n",
    "\n",
    "retriever = MultiQueryRetriever.from_llm(retriever=vectordb.as_retriever(),llm=llm)\n",
    "unique_docs = retriever.get_relevant_documents(query=question)\n",
    "print(f'Length of unique documents: {unique_docs}')"
   ]
  },
  {
   "cell_type": "code",
   "execution_count": 22,
   "id": "d5061c56",
   "metadata": {},
   "outputs": [
    {
     "data": {
      "text/plain": [
       "'Based on the provided context, the major banks have passed a less vigorous stress test from the Federal Reserve in 2025. This indicates that the banks are well capitalized and resilient to severe outcomes, allowing them to withstand a hypothetical severe economic downturn. The stress tests were less intense due to the weakened global economy and previous volatility in test results. The banks were not heavily tested on their exposure to private equity assets or private credit, which are growing alarmingly quickly and could pose systemic risks to the financial system.'"
      ]
     },
     "execution_count": 22,
     "metadata": {},
     "output_type": "execute_result"
    }
   ],
   "source": [
    "prompt_template = \"\"\"\n",
    "provide a answer at the end based on the following pieces of context.\n",
    "IF you do not know the answer, simply say you do not know. Do not make anything up.\n",
    "\n",
    "\n",
    "{context}\n",
    "\n",
    "Answer:\"\"\"\n",
    "\n",
    "\n",
    "\n",
    "PROMPT = PromptTemplate(template=prompt_template,input_variables=['context','question'])\n",
    "\n",
    "llm.predict(PROMPT.format_prompt(context=unique_docs,question=question).text)"
   ]
  }
 ],
 "metadata": {
  "kernelspec": {
   "display_name": "venv (3.12.3)",
   "language": "python",
   "name": "python3"
  },
  "language_info": {
   "codemirror_mode": {
    "name": "ipython",
    "version": 3
   },
   "file_extension": ".py",
   "mimetype": "text/x-python",
   "name": "python",
   "nbconvert_exporter": "python",
   "pygments_lexer": "ipython3",
   "version": "3.12.3"
  }
 },
 "nbformat": 4,
 "nbformat_minor": 5
}
